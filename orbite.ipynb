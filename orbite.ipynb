{
 "cells": [
  {
   "cell_type": "code",
   "execution_count": null,
   "id": "4d3ff098",
   "metadata": {
    "vscode": {
     "languageId": "plaintext"
    }
   },
   "outputs": [],
   "source": [
    "from astropy import units as u\n",
    "from astropy.time import Time\n",
    "from poliastro.bodies import Earth\n",
    "from poliastro.twobody.orbit import Orbit\n",
    "\n",
    "# Crea un'orbita circolare a 500 km di altitudine\n",
    "epoch = Time(\"2025-08-13 12:00:00\", scale=\"utc\")\n",
    "orbita = Orbit.circular(Earth, alt=500 * u.km, epoch=epoch)\n",
    "\n",
    "# Mostra i dati dell'orbita\n",
    "print(orbita)"
   ]
  }
 ],
 "metadata": {
  "language_info": {
   "name": "python"
  }
 },
 "nbformat": 4,
 "nbformat_minor": 5
}
