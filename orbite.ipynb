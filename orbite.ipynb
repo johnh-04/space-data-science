{
 "cells": [
  {
   "cell_type": "code",
   "execution_count": 1,
   "id": "4d3ff098",
   "metadata": {},
   "outputs": [
    {
     "name": "stdout",
     "output_type": "stream",
     "text": [
      "6878 x 6878 km x 0.0 deg orbit around Earth (♁)\n"
     ]
    }
   ],
   "source": [
    "from astropy import units as u\n",
    "from astropy.time import Time\n",
    "from poliastro.bodies import Earth\n",
    "from poliastro.twobody.orbit import Orbit\n",
    "\n",
    "# Crea un'orbita circolare a 500 km di altitudine\n",
    "epoch = Time(\"2025-08-13 12:00:00\", scale=\"utc\")\n",
    "orbita = Orbit.circular(Earth, alt=500 * u.km, epoch=epoch)\n",
    "\n",
    "# Mostra i dati dell'orbita\n",
    "print(orbita)"
   ]
  }
 ],
 "metadata": {
  "kernelspec": {
   "display_name": "space-ds",
   "language": "python",
   "name": "python3"
  },
  "language_info": {
   "codemirror_mode": {
    "name": "ipython",
    "version": 3
   },
   "file_extension": ".py",
   "mimetype": "text/x-python",
   "name": "python",
   "nbconvert_exporter": "python",
   "pygments_lexer": "ipython3",
   "version": "3.11.13"
  }
 },
 "nbformat": 4,
 "nbformat_minor": 5
}
